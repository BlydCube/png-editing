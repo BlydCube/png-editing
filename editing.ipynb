{
 "cells": [
  {
   "cell_type": "code",
   "execution_count": 18,
   "metadata": {},
   "outputs": [],
   "source": [
    "from PIL import Image, ImageFont, ImageDraw\n",
    "font = ImageFont.truetype(\"/usr/share/fonts/dejavu/DejaVuSans.ttf\", 100)\n",
    "# img = Image.new(\"RGBA\", (200,200), (120,20,20))\n",
    "list = [\"KEK\", \"POG\", \"POGGERS\", \"SADGE\"]\n",
    "for i in list:\n",
    "    img = Image.open(\"wallhaven-wq8o1p.png\")\n",
    "    draw = ImageDraw.Draw(img)\n",
    "    draw.text((650, 300), i, (0,0,0), font=font)\n",
    "    img.save(\"certificate_\" + i + \".png\")"
   ]
  },
  {
   "cell_type": "code",
   "execution_count": null,
   "metadata": {},
   "outputs": [],
   "source": []
  },
  {
   "cell_type": "code",
   "execution_count": null,
   "metadata": {},
   "outputs": [],
   "source": []
  }
 ],
 "metadata": {
  "kernelspec": {
   "display_name": "Python 3",
   "language": "python",
   "name": "python3"
  },
  "language_info": {
   "codemirror_mode": {
    "name": "ipython",
    "version": 3
   },
   "file_extension": ".py",
   "mimetype": "text/x-python",
   "name": "python",
   "nbconvert_exporter": "python",
   "pygments_lexer": "ipython3",
   "version": "3.9.0"
  }
 },
 "nbformat": 4,
 "nbformat_minor": 4
}
